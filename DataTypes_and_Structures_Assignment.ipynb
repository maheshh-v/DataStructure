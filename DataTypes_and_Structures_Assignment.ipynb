{
 "cells": [
  {
   "cell_type": "markdown",
   "id": "1559e791",
   "metadata": {},
   "source": [
    "**Q1. What are data structures, and why are they important**\n",
    "\n",
    "Data structures are ways of organizing and storing data for efficient access and modification. They are important because they help optimize operations such as search, insert, delete, and traversal."
   ]
  },
  {
   "cell_type": "markdown",
   "id": "3df31a52",
   "metadata": {},
   "source": [
    "**Q2. Explain the difference between mutable and immutable data types with examples**\n",
    "\n",
    "Mutable data types can be changed after creation (e.g., list, dict). Immutable data types cannot be changed (e.g., tuple, string).\n",
    "Example:\n",
    "Mutable: `a = [1, 2]; a[0] = 5`\n",
    "Immutable: `s = 'hello'; s[0] = 'H'` (Error)"
   ]
  },
  {
   "cell_type": "markdown",
   "id": "f998d458",
   "metadata": {},
   "source": [
    "**Q3. What are the main differences between lists and tuples in Python**\n",
    "\n",
    "Lists are mutable, tuples are immutable. Lists use `[]`, tuples use `()`."
   ]
  },
  {
   "cell_type": "markdown",
   "id": "4ffcd0d3",
   "metadata": {},
   "source": [
    "**Q4. Describe how dictionaries store data**\n",
    "\n",
    "Dictionaries store data as key-value pairs using a hash table internally for fast lookup."
   ]
  },
  {
   "cell_type": "markdown",
   "id": "b01989bf",
   "metadata": {},
   "source": [
    "**Q5. Why might you use a set instead of a list in Python**\n",
    "\n",
    "Sets automatically remove duplicates and allow fast membership testing."
   ]
  },
  {
   "cell_type": "markdown",
   "id": "814207a4",
   "metadata": {},
   "source": [
    "**Q6. What is a string in Python, and how is it different from a list**\n",
    "\n",
    "A string is a sequence of characters and is immutable. A list is a sequence of elements and is mutable."
   ]
  },
  {
   "cell_type": "markdown",
   "id": "62e9b320",
   "metadata": {},
   "source": [
    "**Q7. How do tuples ensure data integrity in Python**\n",
    "\n",
    "Since tuples are immutable, data inside cannot be altered, ensuring it stays the same."
   ]
  },
  {
   "cell_type": "markdown",
   "id": "c19409c4",
   "metadata": {},
   "source": [
    "**Q8. What is a hash table, and how does it relate to dictionaries in Python**\n",
    "\n",
    "A hash table maps keys to values using a hash function. Python dictionaries use hash tables internally."
   ]
  },
  {
   "cell_type": "markdown",
   "id": "02eac10d",
   "metadata": {},
   "source": [
    "**Q9. Can lists contain different data types in Python**\n",
    "\n",
    "Yes, Python lists can contain elements of different data types."
   ]
  },
  {
   "cell_type": "markdown",
   "id": "5602d5a9",
   "metadata": {},
   "source": [
    "**Q10. Explain why strings are immutable in Python**\n",
    "\n",
    "Immutability ensures strings are thread-safe and can be used as dictionary keys or set elements."
   ]
  },
  {
   "cell_type": "markdown",
   "id": "99ae553c",
   "metadata": {},
   "source": [
    "**Q11. What advantages do dictionaries offer over lists for certain tasks**\n",
    "\n",
    "Dictionaries offer faster key-based access and better organization for key-value data."
   ]
  },
  {
   "cell_type": "markdown",
   "id": "f41876df",
   "metadata": {},
   "source": [
    "**Q12. Describe a scenario where using a tuple would be preferable over a list**\n",
    "\n",
    "When storing fixed data like coordinates (x, y), where changes are not needed."
   ]
  },
  {
   "cell_type": "markdown",
   "id": "89a3f1c7",
   "metadata": {},
   "source": [
    "**Q13. How do sets handle duplicate values in Python**\n",
    "\n",
    "Sets automatically remove duplicates; only unique elements are stored."
   ]
  },
  {
   "cell_type": "markdown",
   "id": "9638ed22",
   "metadata": {},
   "source": [
    "**Q14. How does the “in” keyword work differently for lists and dictionaries**\n",
    "\n",
    "`in` checks for elements in lists, but keys in dictionaries."
   ]
  },
  {
   "cell_type": "markdown",
   "id": "cf027a61",
   "metadata": {},
   "source": [
    "**Q15. Can you modify the elements of a tuple? Explain why or why not**\n",
    "\n",
    "No, tuples are immutable and cannot be modified after creation."
   ]
  },
  {
   "cell_type": "markdown",
   "id": "72142fc3",
   "metadata": {},
   "source": [
    "**Q16. What is a nested dictionary, and give an example of its use case**\n",
    "\n",
    "A dictionary inside another dictionary.\n",
    "Example: `{'student': {'name': 'John', 'age': 20}}`"
   ]
  },
  {
   "cell_type": "markdown",
   "id": "058db81d",
   "metadata": {},
   "source": [
    "**Q17. Describe the time complexity of accessing elements in a dictionary**\n",
    "\n",
    "O(1) on average, due to the use of hash tables."
   ]
  },
  {
   "cell_type": "markdown",
   "id": "31caa528",
   "metadata": {},
   "source": [
    "**Q18. In what situations are lists preferred over dictionaries**\n",
    "\n",
    "When order matters or when storing sequences without key-value relationships."
   ]
  },
  {
   "cell_type": "markdown",
   "id": "4a656222",
   "metadata": {},
   "source": [
    "**Q19. Why are dictionaries considered unordered, and how does that affect data retrieval**\n",
    "\n",
    "Until Python 3.7, dictionaries didn't maintain order. Now they do, but retrieval is still key-based."
   ]
  },
  {
   "cell_type": "markdown",
   "id": "8b446c9c",
   "metadata": {},
   "source": [
    "**Q20. Explain the difference between a list and a dictionary in terms of data retrieval.**\n",
    "\n",
    "List access is index-based; dictionary access is key-based and faster for lookups."
   ]
  },
  {
   "cell_type": "code",
   "execution_count": null,
   "id": "b72a4cb9",
   "metadata": {},
   "outputs": [],
   "source": [
    "# Q1. Create a string with your name and print it\n",
    "name = 'Mahesh'\n",
    "print(name)"
   ]
  },
  {
   "cell_type": "code",
   "execution_count": null,
   "id": "1ddbe354",
   "metadata": {},
   "outputs": [],
   "source": [
    "# Q2. Find the length of the string 'Hello World'\n",
    "print(len('Hello World'))"
   ]
  },
  {
   "cell_type": "code",
   "execution_count": null,
   "id": "60651495",
   "metadata": {},
   "outputs": [],
   "source": [
    "# Q3. Slice the first 3 characters from the string 'Python Programming'\n",
    "print('Python Programming'[:3])"
   ]
  },
  {
   "cell_type": "code",
   "execution_count": null,
   "id": "0ff8a1cf",
   "metadata": {},
   "outputs": [],
   "source": [
    "# Q4. Convert the string 'hello' to uppercase\n",
    "print('hello'.upper())"
   ]
  },
  {
   "cell_type": "code",
   "execution_count": null,
   "id": "7f4baa6f",
   "metadata": {},
   "outputs": [],
   "source": [
    "# Q5. Replace 'apple' with 'orange'\n",
    "print('I like apple'.replace('apple', 'orange'))"
   ]
  },
  {
   "cell_type": "code",
   "execution_count": null,
   "id": "304eb62c",
   "metadata": {},
   "outputs": [],
   "source": [
    "# Q6. Create a list with numbers 1 to 5\n",
    "print([1, 2, 3, 4, 5])"
   ]
  },
  {
   "cell_type": "code",
   "execution_count": null,
   "id": "4e293bce",
   "metadata": {},
   "outputs": [],
   "source": [
    "# Q7. Append 10 to list\n",
    "lst = [1, 2, 3, 4]\n",
    "lst.append(10)\n",
    "print(lst)"
   ]
  },
  {
   "cell_type": "code",
   "execution_count": null,
   "id": "c2a39408",
   "metadata": {},
   "outputs": [],
   "source": [
    "# Q8. Remove 3 from list\n",
    "lst = [1, 2, 3, 4, 5]\n",
    "lst.remove(3)\n",
    "print(lst)"
   ]
  },
  {
   "cell_type": "code",
   "execution_count": null,
   "id": "66a378c1",
   "metadata": {},
   "outputs": [],
   "source": [
    "# Q9. Access 2nd element in list\n",
    "lst = ['a', 'b', 'c', 'd']\n",
    "print(lst[1])"
   ]
  },
  {
   "cell_type": "code",
   "execution_count": null,
   "id": "6a53f749",
   "metadata": {},
   "outputs": [],
   "source": [
    "# Q10. Reverse list\n",
    "lst = [10, 20, 30, 40, 50]\n",
    "lst.reverse()\n",
    "print(lst)"
   ]
  },
  {
   "cell_type": "code",
   "execution_count": null,
   "id": "7fb86eb2",
   "metadata": {},
   "outputs": [],
   "source": [
    "# Q11. Create tuple and print\n",
    "t = (100, 200, 300)\n",
    "print(t)"
   ]
  },
  {
   "cell_type": "code",
   "execution_count": null,
   "id": "5c67585c",
   "metadata": {},
   "outputs": [],
   "source": [
    "# Q12. Access second-to-last element\n",
    "t = ('red', 'green', 'blue', 'yellow')\n",
    "print(t[-2])"
   ]
  },
  {
   "cell_type": "code",
   "execution_count": null,
   "id": "62d1187e",
   "metadata": {},
   "outputs": [],
   "source": [
    "# Q13. Find min in tuple\n",
    "print(min((10, 20, 5, 15)))"
   ]
  },
  {
   "cell_type": "code",
   "execution_count": null,
   "id": "fc4fa9f8",
   "metadata": {},
   "outputs": [],
   "source": [
    "# Q14. Find index of 'cat'\n",
    "t = ('dog', 'cat', 'rabbit')\n",
    "print(t.index('cat'))"
   ]
  },
  {
   "cell_type": "code",
   "execution_count": null,
   "id": "a6f730a1",
   "metadata": {},
   "outputs": [],
   "source": [
    "# Q15. Check if 'kiwi' in tuple\n",
    "t = ('apple', 'banana', 'mango')\n",
    "print('kiwi' in t)"
   ]
  },
  {
   "cell_type": "code",
   "execution_count": null,
   "id": "68359433",
   "metadata": {},
   "outputs": [],
   "source": [
    "# Q16. Create and print set\n",
    "s = {'a', 'b', 'c'}\n",
    "print(s)"
   ]
  },
  {
   "cell_type": "code",
   "execution_count": null,
   "id": "2ec0337b",
   "metadata": {},
   "outputs": [],
   "source": [
    "# Q17. Clear set\n",
    "s = {1, 2, 3, 4, 5}\n",
    "s.clear()\n",
    "print(s)"
   ]
  },
  {
   "cell_type": "code",
   "execution_count": null,
   "id": "4f96e466",
   "metadata": {},
   "outputs": [],
   "source": [
    "# Q18. Remove element 4\n",
    "s = {1, 2, 3, 4}\n",
    "s.remove(4)\n",
    "print(s)"
   ]
  },
  {
   "cell_type": "code",
   "execution_count": null,
   "id": "11b9cb9d",
   "metadata": {},
   "outputs": [],
   "source": [
    "# Q19. Union of sets\n",
    "print({1, 2, 3} | {3, 4, 5})"
   ]
  },
  {
   "cell_type": "code",
   "execution_count": null,
   "id": "899b2900",
   "metadata": {},
   "outputs": [],
   "source": [
    "# Q20. Intersection of sets\n",
    "print({1, 2, 3} & {2, 3, 4})"
   ]
  },
  {
   "cell_type": "code",
   "execution_count": null,
   "id": "41c4f68a",
   "metadata": {},
   "outputs": [],
   "source": [
    "# Q21. Create dictionary and print\n",
    "d = {'name': 'John', 'age': 25, 'city': 'New York'}\n",
    "print(d)"
   ]
  },
  {
   "cell_type": "code",
   "execution_count": null,
   "id": "cf45d5f8",
   "metadata": {},
   "outputs": [],
   "source": [
    "# Q22. Add 'country': 'USA'\n",
    "d = {'name': 'John', 'age': 25}\n",
    "d['country'] = 'USA'\n",
    "print(d)"
   ]
  },
  {
   "cell_type": "code",
   "execution_count": null,
   "id": "1100af29",
   "metadata": {},
   "outputs": [],
   "source": [
    "# Q23. Access 'name' value\n",
    "d = {'name': 'Alice', 'age': 30}\n",
    "print(d['name'])"
   ]
  },
  {
   "cell_type": "code",
   "execution_count": null,
   "id": "b805f741",
   "metadata": {},
   "outputs": [],
   "source": [
    "# Q24. Remove 'age' key\n",
    "d = {'name': 'Bob', 'age': 22, 'city': 'New York'}\n",
    "d.pop('age')\n",
    "print(d)"
   ]
  },
  {
   "cell_type": "code",
   "execution_count": null,
   "id": "98fd970a",
   "metadata": {},
   "outputs": [],
   "source": [
    "# Q25. Check if 'city' exists\n",
    "d = {'name': 'Alice', 'city': 'Paris'}\n",
    "print('city' in d)"
   ]
  },
  {
   "cell_type": "code",
   "execution_count": null,
   "id": "c53fa0d4",
   "metadata": {},
   "outputs": [],
   "source": [
    "# Q26. Create list, tuple, dict\n",
    "lst = [1, 2, 3]\n",
    "tpl = (4, 5, 6)\n",
    "dct = {'a': 1, 'b': 2}\n",
    "print(lst, tpl, dct)"
   ]
  },
  {
   "cell_type": "code",
   "execution_count": null,
   "id": "041d2723",
   "metadata": {},
   "outputs": [],
   "source": [
    "# Q27. Random 5 numbers sorted\n",
    "import random\n",
    "lst = random.sample(range(1, 101), 5)\n",
    "lst.sort()\n",
    "print(lst)"
   ]
  },
  {
   "cell_type": "code",
   "execution_count": null,
   "id": "41b5aa76",
   "metadata": {},
   "outputs": [],
   "source": [
    "# Q28. Print element at third index\n",
    "lst = ['one', 'two', 'three', 'four', 'five']\n",
    "print(lst[3])"
   ]
  },
  {
   "cell_type": "code",
   "execution_count": null,
   "id": "f5cf1faf",
   "metadata": {},
   "outputs": [],
   "source": [
    "# Q29. Combine dictionaries\n",
    "d1 = {'a': 1}\n",
    "d2 = {'b': 2}\n",
    "d1.update(d2)\n",
    "print(d1)"
   ]
  },
  {
   "cell_type": "code",
   "execution_count": null,
   "id": "508580f0",
   "metadata": {},
   "outputs": [],
   "source": [
    "# Q30. Convert list to set\n",
    "lst = ['a', 'b', 'c', 'a']\n",
    "print(set(lst))"
   ]
  }
 ],
 "metadata": {},
 "nbformat": 4,
 "nbformat_minor": 5
}